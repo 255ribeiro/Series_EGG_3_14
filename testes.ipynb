{
 "cells": [
  {
   "cell_type": "code",
   "execution_count": 11,
   "metadata": {},
   "outputs": [],
   "source": [
    "import json\n",
    "import pandas as pd"
   ]
  },
  {
   "cell_type": "code",
   "execution_count": 12,
   "metadata": {},
   "outputs": [],
   "source": [
    "df = pd.read_json('./info/experiment_dict.json')"
   ]
  },
  {
   "cell_type": "code",
   "execution_count": 13,
   "metadata": {},
   "outputs": [
    {
     "data": {
      "text/html": [
       "<div>\n",
       "<style scoped>\n",
       "    .dataframe tbody tr th:only-of-type {\n",
       "        vertical-align: middle;\n",
       "    }\n",
       "\n",
       "    .dataframe tbody tr th {\n",
       "        vertical-align: top;\n",
       "    }\n",
       "\n",
       "    .dataframe thead th {\n",
       "        text-align: right;\n",
       "    }\n",
       "</style>\n",
       "<table border=\"1\" class=\"dataframe\">\n",
       "  <thead>\n",
       "    <tr style=\"text-align: right;\">\n",
       "      <th></th>\n",
       "      <th>Type</th>\n",
       "      <th>Activity</th>\n",
       "    </tr>\n",
       "    <tr>\n",
       "      <th>Experiment</th>\n",
       "      <th></th>\n",
       "      <th></th>\n",
       "    </tr>\n",
       "  </thead>\n",
       "  <tbody>\n",
       "    <tr>\n",
       "      <th>1</th>\n",
       "      <td>Baseline</td>\n",
       "      <td>Eyes Open</td>\n",
       "    </tr>\n",
       "    <tr>\n",
       "      <th>2</th>\n",
       "      <td>Baseline</td>\n",
       "      <td>Eyes Closed</td>\n",
       "    </tr>\n",
       "    <tr>\n",
       "      <th>3</th>\n",
       "      <td>Real</td>\n",
       "      <td>Left Right</td>\n",
       "    </tr>\n",
       "    <tr>\n",
       "      <th>4</th>\n",
       "      <td>Imaginary</td>\n",
       "      <td>Left Right</td>\n",
       "    </tr>\n",
       "    <tr>\n",
       "      <th>5</th>\n",
       "      <td>Real</td>\n",
       "      <td>Top Down</td>\n",
       "    </tr>\n",
       "    <tr>\n",
       "      <th>6</th>\n",
       "      <td>Imaginary</td>\n",
       "      <td>Top Down</td>\n",
       "    </tr>\n",
       "    <tr>\n",
       "      <th>7</th>\n",
       "      <td>Real</td>\n",
       "      <td>Left Right</td>\n",
       "    </tr>\n",
       "    <tr>\n",
       "      <th>8</th>\n",
       "      <td>Imaginary</td>\n",
       "      <td>Left Right</td>\n",
       "    </tr>\n",
       "    <tr>\n",
       "      <th>9</th>\n",
       "      <td>Real</td>\n",
       "      <td>Top Down</td>\n",
       "    </tr>\n",
       "    <tr>\n",
       "      <th>10</th>\n",
       "      <td>Imaginary</td>\n",
       "      <td>Top Down</td>\n",
       "    </tr>\n",
       "    <tr>\n",
       "      <th>11</th>\n",
       "      <td>Real</td>\n",
       "      <td>Left Right</td>\n",
       "    </tr>\n",
       "    <tr>\n",
       "      <th>12</th>\n",
       "      <td>Imaginary</td>\n",
       "      <td>Left Right</td>\n",
       "    </tr>\n",
       "    <tr>\n",
       "      <th>13</th>\n",
       "      <td>Real</td>\n",
       "      <td>Top Down</td>\n",
       "    </tr>\n",
       "    <tr>\n",
       "      <th>14</th>\n",
       "      <td>Imaginary</td>\n",
       "      <td>Top Down</td>\n",
       "    </tr>\n",
       "  </tbody>\n",
       "</table>\n",
       "</div>"
      ],
      "text/plain": [
       "                  Type     Activity\n",
       "Experiment                         \n",
       "1             Baseline    Eyes Open\n",
       "2             Baseline  Eyes Closed\n",
       "3                 Real   Left Right\n",
       "4            Imaginary   Left Right\n",
       "5                 Real     Top Down\n",
       "6            Imaginary     Top Down\n",
       "7                 Real   Left Right\n",
       "8            Imaginary   Left Right\n",
       "9                 Real     Top Down\n",
       "10           Imaginary     Top Down\n",
       "11                Real   Left Right\n",
       "12           Imaginary   Left Right\n",
       "13                Real     Top Down\n",
       "14           Imaginary     Top Down"
      ]
     },
     "execution_count": 13,
     "metadata": {},
     "output_type": "execute_result"
    }
   ],
   "source": [
    "df = df.T.set_index('Experiment')\n",
    "df"
   ]
  },
  {
   "cell_type": "code",
   "execution_count": 21,
   "metadata": {},
   "outputs": [
    {
     "name": "stdout",
     "output_type": "stream",
     "text": [
      "['01', '02', '03', '04', '05', '06', '07', '08', '09', '10', '11', '12', '13', '14']\n"
     ]
    }
   ],
   "source": [
    "with open('./info/experiment_dict.json') as f:\n",
    "   data = json.load(f)\n"
   ]
  },
  {
   "cell_type": "code",
   "execution_count": 22,
   "metadata": {},
   "outputs": [
    {
     "data": {
      "text/plain": [
       "{'Experiment': 1, 'Type': ' Baseline', 'Activity': 'Eyes Open'}"
      ]
     },
     "execution_count": 22,
     "metadata": {},
     "output_type": "execute_result"
    }
   ],
   "source": [
    "data.get('01')"
   ]
  },
  {
   "cell_type": "code",
   "execution_count": 14,
   "metadata": {},
   "outputs": [
    {
     "data": {
      "text/plain": [
       "array([1.00000000e+00, 2.51321063e+00, 6.31622767e+00, 1.58740105e+01,\n",
       "       3.98947320e+01, 1.00263864e+02, 2.51984210e+02, 6.33289395e+02,\n",
       "       1.59158964e+03, 4.00000000e+03])"
      ]
     },
     "execution_count": 14,
     "metadata": {},
     "output_type": "execute_result"
    }
   ],
   "source": [
    "import numpy as np\n",
    "start_pt = 1\n",
    "end_pt= 4000\n",
    "n_pts = 10\n",
    "np.exp(np.linspace(np.log(start_pt), np.log(end_pt), n_pts))"
   ]
  },
  {
   "cell_type": "code",
   "execution_count": 5,
   "metadata": {},
   "outputs": [
    {
     "ename": "TypeError",
     "evalue": "MultiIndex.__new__() got an unexpected keyword argument 'labels'",
     "output_type": "error",
     "traceback": [
      "\u001b[1;31m---------------------------------------------------------------------------\u001b[0m",
      "\u001b[1;31mTypeError\u001b[0m                                 Traceback (most recent call last)",
      "\u001b[1;32md:\\gitrepos\\Series_EGG_3_14\\testes.ipynb Célula: 7\u001b[0m in \u001b[0;36m<cell line: 8>\u001b[1;34m()\u001b[0m\n\u001b[0;32m      <a href='vscode-notebook-cell:/d%3A/gitrepos/Series_EGG_3_14/testes.ipynb#W6sZmlsZQ%3D%3D?line=2'>3</a>\u001b[0m idx \u001b[39m=\u001b[39m pd\u001b[39m.\u001b[39mMultiIndex\u001b[39m.\u001b[39mfrom_tuples([(\u001b[39m1\u001b[39m, \u001b[39mu\u001b[39m\u001b[39m'\u001b[39m\u001b[39mone\u001b[39m\u001b[39m'\u001b[39m), (\u001b[39m1\u001b[39m, \u001b[39mu\u001b[39m\u001b[39m'\u001b[39m\u001b[39mtwo\u001b[39m\u001b[39m'\u001b[39m),\n\u001b[0;32m      <a href='vscode-notebook-cell:/d%3A/gitrepos/Series_EGG_3_14/testes.ipynb#W6sZmlsZQ%3D%3D?line=3'>4</a>\u001b[0m                                   (\u001b[39m2\u001b[39m, \u001b[39mu\u001b[39m\u001b[39m'\u001b[39m\u001b[39mone\u001b[39m\u001b[39m'\u001b[39m), (\u001b[39m2\u001b[39m, \u001b[39mu\u001b[39m\u001b[39m'\u001b[39m\u001b[39mtwo\u001b[39m\u001b[39m'\u001b[39m)],\n\u001b[0;32m      <a href='vscode-notebook-cell:/d%3A/gitrepos/Series_EGG_3_14/testes.ipynb#W6sZmlsZQ%3D%3D?line=4'>5</a>\u001b[0m                                   names\u001b[39m=\u001b[39m[\u001b[39m'\u001b[39m\u001b[39mfoo\u001b[39m\u001b[39m'\u001b[39m, \u001b[39m'\u001b[39m\u001b[39mbar\u001b[39m\u001b[39m'\u001b[39m])\n\u001b[0;32m      <a href='vscode-notebook-cell:/d%3A/gitrepos/Series_EGG_3_14/testes.ipynb#W6sZmlsZQ%3D%3D?line=6'>7</a>\u001b[0m idx\u001b[39m.\u001b[39mset_names([\u001b[39m'\u001b[39m\u001b[39mbaz\u001b[39m\u001b[39m'\u001b[39m, \u001b[39m'\u001b[39m\u001b[39mquz\u001b[39m\u001b[39m'\u001b[39m])\n\u001b[1;32m----> <a href='vscode-notebook-cell:/d%3A/gitrepos/Series_EGG_3_14/testes.ipynb#W6sZmlsZQ%3D%3D?line=7'>8</a>\u001b[0m pd\u001b[39m.\u001b[39;49mMultiIndex(levels\u001b[39m=\u001b[39;49m[[\u001b[39m1\u001b[39;49m, \u001b[39m2\u001b[39;49m], [\u001b[39mu\u001b[39;49m\u001b[39m'\u001b[39;49m\u001b[39mone\u001b[39;49m\u001b[39m'\u001b[39;49m, \u001b[39mu\u001b[39;49m\u001b[39m'\u001b[39;49m\u001b[39mtwo\u001b[39;49m\u001b[39m'\u001b[39;49m]],\n\u001b[0;32m      <a href='vscode-notebook-cell:/d%3A/gitrepos/Series_EGG_3_14/testes.ipynb#W6sZmlsZQ%3D%3D?line=8'>9</a>\u001b[0m            labels\u001b[39m=\u001b[39;49m[[\u001b[39m0\u001b[39;49m, \u001b[39m0\u001b[39;49m, \u001b[39m1\u001b[39;49m, \u001b[39m1\u001b[39;49m], [\u001b[39m0\u001b[39;49m, \u001b[39m1\u001b[39;49m, \u001b[39m0\u001b[39;49m, \u001b[39m1\u001b[39;49m]],\n\u001b[0;32m     <a href='vscode-notebook-cell:/d%3A/gitrepos/Series_EGG_3_14/testes.ipynb#W6sZmlsZQ%3D%3D?line=9'>10</a>\u001b[0m            names\u001b[39m=\u001b[39;49m[\u001b[39mu\u001b[39;49m\u001b[39m'\u001b[39;49m\u001b[39mbaz\u001b[39;49m\u001b[39m'\u001b[39;49m, \u001b[39mu\u001b[39;49m\u001b[39m'\u001b[39;49m\u001b[39mquz\u001b[39;49m\u001b[39m'\u001b[39;49m])\n\u001b[0;32m     <a href='vscode-notebook-cell:/d%3A/gitrepos/Series_EGG_3_14/testes.ipynb#W6sZmlsZQ%3D%3D?line=12'>13</a>\u001b[0m idx\n",
      "\u001b[1;31mTypeError\u001b[0m: MultiIndex.__new__() got an unexpected keyword argument 'labels'"
     ]
    }
   ],
   "source": [
    "\n",
    "idx"
   ]
  },
  {
   "cell_type": "code",
   "execution_count": null,
   "metadata": {},
   "outputs": [],
   "source": []
  }
 ],
 "metadata": {
  "kernelspec": {
   "display_name": "Python 3.10.6 ('.venv': poetry)",
   "language": "python",
   "name": "python3"
  },
  "language_info": {
   "codemirror_mode": {
    "name": "ipython",
    "version": 3
   },
   "file_extension": ".py",
   "mimetype": "text/x-python",
   "name": "python",
   "nbconvert_exporter": "python",
   "pygments_lexer": "ipython3",
   "version": "3.10.6"
  },
  "orig_nbformat": 4,
  "vscode": {
   "interpreter": {
    "hash": "df4d29b6beb9e8fbb041556cccc72f7af12117259351753b21605dce8cddeb8c"
   }
  }
 },
 "nbformat": 4,
 "nbformat_minor": 2
}
