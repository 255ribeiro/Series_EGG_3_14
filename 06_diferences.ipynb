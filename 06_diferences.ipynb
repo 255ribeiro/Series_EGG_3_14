{
 "cells": [
  {
   "cell_type": "markdown",
   "metadata": {},
   "source": [
    "# Generating images"
   ]
  },
  {
   "cell_type": "code",
   "execution_count": null,
   "metadata": {},
   "outputs": [],
   "source": [
    "import pandas as pd\n",
    "import numpy as np\n",
    "import matplotlib.pyplot as plt\n",
    "from matplotlib.ticker import ScalarFormatter, FuncFormatter\n",
    "from pathlib import Path\n",
    "from PIL import Image\n",
    "import io"
   ]
  },
  {
   "cell_type": "markdown",
   "metadata": {},
   "source": [
    "### Pandas options"
   ]
  },
  {
   "cell_type": "code",
   "execution_count": null,
   "metadata": {},
   "outputs": [],
   "source": [
    "pd.set_option('display.max_row', None)\n",
    "pd.set_option('display.max_column', None)"
   ]
  },
  {
   "cell_type": "markdown",
   "metadata": {},
   "source": [
    "## File paths"
   ]
  },
  {
   "cell_type": "code",
   "execution_count": null,
   "metadata": {},
   "outputs": [],
   "source": [
    "root = Path()\n",
    "info_path = root / 'info'\n",
    "data_proc = root / 'data' / 'data_proc'\n",
    "out_path =root / 'output'\n",
    "out_path.mkdir(exist_ok=True)\n",
    "out_tables = out_path / 'exracted_tables'\n",
    "out_tables.mkdir(exist_ok=True)\n",
    "stats_subj_file_name = out_tables / 'stats_full_subj_protocol.pkl'\n",
    "stats_prot_file_name = out_tables / 'stats_full_exp_protocol.pkl'\n",
    "out_path.mkdir(exist_ok=True)\n",
    "save_fig_path = out_path / 'figs'\n",
    "diff_fig_path = save_fig_path / 'diff'\n",
    "ir_diff_fig_path = save_fig_path / 'ir_diff'\n",
    "mse_fig_path = save_fig_path / 'mse'\n",
    "save_fig_path.mkdir(exist_ok=True)\n",
    "diff_fig_path.mkdir(exist_ok=True)\n",
    "ir_diff_fig_path.mkdir(exist_ok=True)\n",
    "mse_fig_path.mkdir(exist_ok=True)"
   ]
  },
  {
   "cell_type": "markdown",
   "metadata": {},
   "source": [
    "## Reading Global data"
   ]
  },
  {
   "cell_type": "code",
   "execution_count": null,
   "metadata": {},
   "outputs": [],
   "source": [
    "df_stats_global = pd.read_pickle(stats_prot_file_name)\n",
    "df_stats_global.head()"
   ]
  },
  {
   "cell_type": "markdown",
   "metadata": {},
   "source": [
    "## Reading per Subject Data"
   ]
  },
  {
   "cell_type": "code",
   "execution_count": null,
   "metadata": {},
   "outputs": [],
   "source": [
    "df_stats = pd.read_pickle(stats_subj_file_name)\n",
    "df_stats.head()\n"
   ]
  },
  {
   "cell_type": "markdown",
   "metadata": {},
   "source": [
    "## Difference tables"
   ]
  },
  {
   "cell_type": "code",
   "execution_count": null,
   "metadata": {},
   "outputs": [],
   "source": [
    "# difference tables\n",
    "df_diff = df_stats.subtract(df_stats_global)\n",
    "df_diff = df_diff.reorder_levels(['Subject', 'Activity', 'Type', 'Channel', 'stats'], axis=1)\n",
    "df_diff.sort_index(axis=1, level=[0,1,2,3], inplace=True)\n"
   ]
  },
  {
   "cell_type": "code",
   "execution_count": null,
   "metadata": {},
   "outputs": [],
   "source": [
    "# save files\n",
    "file_name = out_tables/'diff_mean_subject.xlsx'\n",
    "df_diff.to_excel(file_name)\n",
    "file_name = out_tables/'diff_mean_subject.pkl'\n",
    "df_diff.to_pickle(file_name)\n",
    "# head\n",
    "df_diff.head()"
   ]
  },
  {
   "cell_type": "markdown",
   "metadata": {},
   "source": [
    "## Generating images for all the subjects"
   ]
  },
  {
   "cell_type": "code",
   "execution_count": null,
   "metadata": {},
   "outputs": [],
   "source": [
    "# image options\n",
    "color = ['royalblue',  'gold', 'firebrick', 'seagreen']\n",
    "marks = ['o',  's', 'D', '^' ]\n",
    "mrk_size = [1.5, 1, 1 ,1.1]\n",
    "use_title = True\n",
    "\n",
    "\n",
    "# log ticks formatting\n",
    "formatter_x = ScalarFormatter()\n",
    "formatter_x.set_scientific(False)\n",
    "\n",
    "# Configure or save image options\n",
    "img_config = not True\n",
    "save_eps = True\n",
    "max_display_img_config = 8\n",
    "\n",
    "stat_name = 'mean'\n",
    "\n",
    "col_lev_list = df_stats.columns.levels\n",
    "\n",
    "subj_list = col_lev_list[0]\n",
    "\n",
    "exp_protocol_list = pd.MultiIndex.from_product( df_stats.columns.levels[1:3])\n",
    "\n",
    "channels = col_lev_list[3]\n",
    "\n",
    "if img_config ==  True:\n",
    "    subj_list = subj_list[:max_display_img_config]\n",
    "\n",
    "# for each subject\n",
    "for subj_code in subj_list:\n",
    "    # create plot\n",
    "    fig,ax = plt.subplots(2,2, figsize=(18,9))\n",
    "\n",
    "    if use_title == True:\n",
    "        fig.suptitle('Subject code: {} (difference from mean value)'.format(subj_code ), fontsize=35, y=1)\n",
    "\n",
    "    fig.supylabel('$DMC_{x}^{2}$', fontsize=25, x=0.05)\n",
    "    fig.supxlabel('Time window size (n)', fontsize=25)\n",
    "\n",
    "    min_y = -1.1\n",
    "    max_y = 1.1\n",
    "\n",
    "    for i_ex, exp_protocol in enumerate(exp_protocol_list):\n",
    "\n",
    "        # slice dataframes\n",
    "        df_aux = df_diff.loc[:, ([subj_code], [exp_protocol[0]], [exp_protocol[1]], slice(None), [stat_name] ) ]\n",
    "  \n",
    "        # for each experiment\n",
    "    \n",
    "        fig_row = i_ex//2\n",
    "        fig_col = i_ex%2\n",
    "\n",
    "        ax[fig_row][fig_col].set_title(\" - \".join(exp_protocol) , fontsize=15)\n",
    "\n",
    "        ax[fig_row][fig_col].set_ylim([min_y, max_y])\n",
    "\n",
    "        ax[fig_row][fig_col].set_facecolor(\"#dfdfdf\")\n",
    "        #ax[fig_row][fig_col].loglog()\n",
    "        ax[fig_row][fig_col].semilogx()\n",
    "    \n",
    "        ax[fig_row][fig_col].xaxis.set_major_formatter(formatter_x)\n",
    "        ax[fig_row][fig_col].set_yticks(np.arange(-1,1.1,0.25))\n",
    "        ax[fig_row][fig_col].grid(visible=True, which='both', axis='both',  linestyle='dashdot', linewidth=.5)\n",
    "\n",
    "        # for each channel\n",
    "        for i_ch , chan in enumerate(channels):\n",
    "\n",
    "            ax[fig_row][fig_col].plot(df_aux.index.values, df_aux.loc[:, (slice(None), slice(None), slice(None),[chan]) ], c= color[i_ch], marker=marks[i_ch], label = chan, markersize=6* mrk_size[i_ch],  linestyle=':', alpha=.8 ,linewidth=1.5)\n",
    "\n",
    "        # janela temporal da figura\n",
    "        ax[fig_row][fig_col].axvline(x=65.6, color='indigo', linestyle='dashed',alpha=.50,linewidth=2.5)\n",
    "\n",
    "    # Legenda\n",
    "    ax[1,1].legend( title = \"Y variable\\nchannel:\", title_fontsize=12, bbox_to_anchor=(1,1.45), loc='upper left',  prop={'size': 15})\n",
    "\n",
    "    # config or save images\n",
    "    if img_config == True:\n",
    "        fig.show()\n",
    "    else:\n",
    "        fig_file_name = diff_fig_path / (subj_code + '.jpg')\n",
    "        fig.savefig(fig_file_name)\n",
    "        # Save the image in memory in PNG format\n",
    "        if save_eps == True:\n",
    "            fig_file_name = fig_file_name.with_suffix('.eps')\n",
    "            with  io.BytesIO() as png1:\n",
    "                fig.savefig(png1, format=\"png\")\n",
    "                # Load this image into PIL\n",
    "                with Image.open(png1) as png2:\n",
    "                # Save as eps\n",
    "                    png2 = png2.convert('RGB')\n",
    "                    png2.save(fig_file_name, lossless = True)\n",
    "\n",
    "        # Close images\n",
    "        plt.close()\n",
    "        fig.clf()\n",
    "\n",
    "        print(subj_code, end=\"...\")\n",
    "print('END')       "
   ]
  },
  {
   "cell_type": "markdown",
   "metadata": {},
   "source": [
    "# Real - Imaginary images"
   ]
  },
  {
   "cell_type": "code",
   "execution_count": null,
   "metadata": {},
   "outputs": [],
   "source": [
    "df_real = df_stats.loc[:, (slice(None), slice(None), [\"Real\"], slice(None), slice(None) ) ]\n",
    "df_real = df_real.droplevel(2, axis=1)\n",
    "df_real.head()\n"
   ]
  },
  {
   "cell_type": "code",
   "execution_count": null,
   "metadata": {},
   "outputs": [],
   "source": [
    "df_img = df_stats.loc[:, (slice(None), slice(None), [\"Imaginary\"], slice(None), slice(None) ) ]\n",
    "df_img = df_img.droplevel(2, axis=1)\n",
    "df_img.head()"
   ]
  },
  {
   "cell_type": "code",
   "execution_count": null,
   "metadata": {},
   "outputs": [],
   "source": [
    "df_diff_ri = df_img.subtract(df_real)\n",
    "df_diff_ri.head()"
   ]
  },
  {
   "cell_type": "code",
   "execution_count": null,
   "metadata": {},
   "outputs": [],
   "source": [
    "# save files\n",
    "file_name = out_tables/'diff_real_img_subject.xlsx'\n",
    "df_diff_ri.to_excel(file_name)\n",
    "file_name = out_tables/'diff_real_img_subject.pkl'\n",
    "df_diff_ri.to_pickle(file_name)"
   ]
  },
  {
   "cell_type": "code",
   "execution_count": null,
   "metadata": {},
   "outputs": [],
   "source": [
    "# image options\n",
    "color = ['royalblue',  'gold', 'firebrick', 'seagreen']\n",
    "marks = ['o',  's', 'D', '^' ]\n",
    "mrk_size = [1.5, 1, 1 ,1.1]\n",
    "use_title = True\n",
    "\n",
    "\n",
    "# log ticks formatting\n",
    "formatter_x = ScalarFormatter()\n",
    "formatter_x.set_scientific(False)\n",
    "\n",
    "# Configure or save image options\n",
    "img_config = not True\n",
    "save_eps = True\n",
    "max_display_img_config = 5\n",
    "\n",
    "stat_name = 'mean'\n",
    "\n",
    "col_lev_list = df_diff_ri.columns.levels\n",
    "\n",
    "subj_list = col_lev_list[0]\n",
    "\n",
    "act_list = df_stats.columns.levels[1]\n",
    "\n",
    "channels = col_lev_list[2]\n",
    "\n",
    "if img_config ==  True:\n",
    "    subj_list = subj_list[:max_display_img_config]\n",
    "\n",
    "# for each subject\n",
    "for subj_code in subj_list:\n",
    "    # create plot\n",
    "    fig,ax = plt.subplots(1,2, figsize=(18,5))\n",
    "    fig.subplots_adjust( top=.8)\n",
    "   \n",
    "\n",
    "\n",
    "    if use_title == True:\n",
    "        fig.suptitle('Subject code: {} difference (Imaginary - real)'.format(subj_code), fontsize=35,y=1)\n",
    "        \n",
    "    fig.supylabel('$DMC_{x}^{2}$', fontsize=25, x=0.05)\n",
    "    fig.supxlabel('Time window size (n)', fontsize=25)\n",
    "\n",
    "    min_y = -1\n",
    "    max_y = 1.1\n",
    "\n",
    "    for i_act, act in enumerate(act_list):\n",
    "\n",
    "        # slice dataframes\n",
    "        df_aux = df_diff_ri.loc[:, ([subj_code], [act], slice(None), [stat_name] ) ]\n",
    "  \n",
    "        # for each experiment\n",
    "    \n",
    "        fig_num = i_act\n",
    "  \n",
    "\n",
    "        ax[fig_num].set_title( act , fontsize=15)\n",
    "\n",
    "        ax[fig_num].set_ylim([min_y, max_y])\n",
    "\n",
    "        ax[fig_num].set_facecolor(\"#dfdfdf\")\n",
    "\n",
    "        ax[fig_num].semilogx()\n",
    "    \n",
    "        ax[fig_num].xaxis.set_major_formatter(formatter_x)\n",
    "        ax[fig_num].set_yticks(np.arange(min_y, max_y, 0.25))\n",
    "        ax[fig_num].grid(visible=True, which='both', axis='both',  linestyle='dashdot', linewidth=.5)\n",
    "\n",
    "        # for each channel\n",
    "        for i_ch , chan in enumerate(channels):\n",
    "\n",
    "            ax[fig_num].plot(df_aux.index.values, df_aux.loc[:, (slice(None),  slice(None),[chan], slice(None)) ], c= color[i_ch], marker=marks[i_ch], label = chan, markersize=6* mrk_size[i_ch],  linestyle=':', alpha=.8 ,linewidth=1.5)\n",
    "\n",
    "        # janela temporal da figura\n",
    "        ax[fig_num].axvline(x=65.6, color='indigo', linestyle='dashed',alpha=.50,linewidth=2.5)\n",
    "\n",
    "    # Legenda\n",
    "    ax[1].legend( title = \"Y variable\\nchannel:\", title_fontsize=12, bbox_to_anchor=(1,.75), loc='upper left',  prop={'size': 15})\n",
    "\n",
    "    # config or save images\n",
    "    if img_config == True:\n",
    "        fig.show()\n",
    "    else:\n",
    "        fig_file_name = ir_diff_fig_path / (subj_code + '.jpg')\n",
    "        fig.savefig(fig_file_name)\n",
    "        # Save the image in memory in PNG format\n",
    "        if save_eps == True:\n",
    "            fig_file_name = fig_file_name.with_suffix('.eps')\n",
    "            with io.BytesIO() as png1:\n",
    "                fig.savefig(png1, format=\"png\")\n",
    "                # Load this image into PIL\n",
    "                with Image.open(png1) as png2:\n",
    "                # Save as eps\n",
    "                    png2 = png2.convert('RGB')\n",
    "                    png2.save(fig_file_name, lossless = True)\n",
    "            \n",
    "\n",
    "        # Close images\n",
    "        plt.close()\n",
    "        fig.clf()\n",
    "        print(subj_code, end=\"...\")\n",
    "print('END')       "
   ]
  },
  {
   "cell_type": "markdown",
   "metadata": {},
   "source": [
    "## Error bar"
   ]
  },
  {
   "cell_type": "code",
   "execution_count": null,
   "metadata": {},
   "outputs": [],
   "source": [
    "df_mse = pd.DataFrame(df_diff.pow(2).mean())\n",
    "df_mse.head()"
   ]
  },
  {
   "cell_type": "code",
   "execution_count": null,
   "metadata": {},
   "outputs": [],
   "source": [
    "df_mse_mean = df_mse.loc[ (slice(None), slice(None), slice(None), slice(None), ['mean']), :]\n",
    "df_mse_mean = df_mse_mean.droplevel(4, axis=0)\n",
    "\n",
    "df_mse_mean.head(10)"
   ]
  },
  {
   "cell_type": "code",
   "execution_count": null,
   "metadata": {},
   "outputs": [],
   "source": [
    "channels_list = df_mse_mean.index.levels[3]\n",
    "activity_list =  df_mse_mean.index.levels[1].to_list()[::-1]\n",
    "type_list =  df_mse_mean.index.levels[2].to_list()[::-1]\n",
    "\n",
    "color_list = ['teal', 'indigo', 'cornflowerblue', 'steelblue']\n",
    "\n",
    "img_config = not True\n",
    "save_eps = True\n",
    "max_display_img_config = 5\n",
    "\n",
    "use_title = True\n",
    "\n",
    "if img_config ==  True:\n",
    "    subj_list = subj_list[:max_display_img_config]\n",
    "\n",
    "for chan in channels_list:\n",
    "\n",
    "    fig,ax = plt.subplots(4,1, figsize=(20,10))\n",
    "\n",
    "    if use_title == True:\n",
    "        fig.suptitle('MSE: Channel {}'.format(chan), fontsize=30,y=1)\n",
    "\n",
    "    i_aux = 0\n",
    "    for i_act, str_act in enumerate(activity_list):\n",
    "        \n",
    "        for i_type, str_type in enumerate(type_list):\n",
    "\n",
    "            i_ax = i_act + i_type + i_aux\n",
    "\n",
    "            df_act_type = df_mse_mean.loc[ (slice(None), [str_act], [str_type], [chan]), :]\n",
    "            ax[i_ax].set_facecolor(\"#dfdfdf\")\n",
    "            ax[i_ax].grid(visible=True, which='both', axis='both',  linestyle='dashdot', linewidth=.5)\n",
    "\n",
    "            ax[i_ax].bar([\"-\".join(i) for i in df_act_type.index], df_act_type.values.flatten(), color = color_list[i_ax])\n",
    "            ax[i_ax].set_yticks(np.arange(0,.51,0.1))\n",
    "\n",
    "            ax[i_ax].set_ylabel(' - '.join([str_act, str_type]))\n",
    "\n",
    "            if i_ax < 3:\n",
    "                ax[i_ax].set_xticklabels([])\n",
    "            else:\n",
    " \n",
    "                ax[i_ax].set_xticklabels([i[0] for i in df_act_type.index], rotation=90, fontsize='small')\n",
    "        i_aux = i_aux + 1\n",
    "    \n",
    "    # Save figs\n",
    "    if img_config == True:\n",
    "        fig.show()\n",
    "    else:\n",
    "        fig_file_name = mse_fig_path / ('mse' + chan + '.jpg')\n",
    "        fig.savefig(fig_file_name)\n",
    "        # Save the image in memory in PNG format\n",
    "        if save_eps == True:\n",
    "            fig_file_name = fig_file_name.with_suffix('.eps')\n",
    "            with io.BytesIO() as png1:\n",
    "                fig.savefig(png1, format=\"png\")L\n",
    "                # Load this image into PIL\n",
    "                with Image.open(png1) as png2:\n",
    "                # Save as eps\n",
    "                    png2 = png2.convert('RGB')\n",
    "                    png2.save(fig_file_name, lossless = True)\n",
    "        # Close images\n",
    "        plt.close()\n",
    "        fig.clf()\n",
    "        print(chan, end=\"...\")\n",
    "print('END')\n"
   ]
  },
  {
   "cell_type": "code",
   "execution_count": null,
   "metadata": {},
   "outputs": [],
   "source": [
    "df_mse_table = df_mse_mean.unstack(level=(2,3))\n",
    "df_mse_table = df_mse_table.droplevel(0, axis=1)\n",
    "df_mse_table.head()"
   ]
  },
  {
   "cell_type": "code",
   "execution_count": null,
   "metadata": {},
   "outputs": [],
   "source": [
    "# save files\n",
    "file_name = out_tables/'mse_table.xlsx'\n",
    "df_mse_table.to_excel(file_name)\n",
    "file_name = out_tables/'mse_table.pkl'\n",
    "df_mse_table.to_pickle(file_name)"
   ]
  },
  {
   "cell_type": "code",
   "execution_count": null,
   "metadata": {},
   "outputs": [],
   "source": [
    "df_mse_table.max()"
   ]
  },
  {
   "cell_type": "markdown",
   "metadata": {},
   "source": []
  },
  {
   "cell_type": "markdown",
   "metadata": {},
   "source": [
    "## Images interval"
   ]
  },
  {
   "cell_type": "code",
   "execution_count": null,
   "metadata": {},
   "outputs": [],
   "source": [
    "interval = 6.25 * 10**-3\n",
    "print(interval)\n",
    "print(100 * interval)\n",
    "print(0.41 / interval)"
   ]
  }
 ],
 "metadata": {
  "kernelspec": {
   "display_name": "Python 3.10.6 ('.venv': poetry)",
   "language": "python",
   "name": "python3"
  },
  "language_info": {
   "codemirror_mode": {
    "name": "ipython",
    "version": 3
   },
   "file_extension": ".py",
   "mimetype": "text/x-python",
   "name": "python",
   "nbconvert_exporter": "python",
   "pygments_lexer": "ipython3",
   "version": "3.10.6"
  },
  "orig_nbformat": 4,
  "vscode": {
   "interpreter": {
    "hash": "df4d29b6beb9e8fbb041556cccc72f7af12117259351753b21605dce8cddeb8c"
   }
  }
 },
 "nbformat": 4,
 "nbformat_minor": 2
}
