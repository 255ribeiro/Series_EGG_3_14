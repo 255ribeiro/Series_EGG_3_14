{
 "cells": [
  {
   "attachments": {},
   "cell_type": "markdown",
   "metadata": {},
   "source": [
    "$$\n",
    "  X_{k} = \\sum_{i=1}^{k}\\left[x_{i} - \\langle x \\rangle \\right]     \n",
    "$$\n",
    "\n",
    "----\n",
    "$$\n",
    "\n",
    "Y_{k}= \\sum_{i=1}^{k}\\left[y_{i} - \\langle y \\rangle \\right] \n",
    "\n",
    "$$\n",
    "----\n",
    "\n",
    "$$\n",
    "  f_{DFA}^{2}(n, i) = \\frac{1}{1+n} \\sum_{k=i}^{i + n}(X_{k}-\\widetilde{X}_{k, i})^{2}\n",
    "$$\n",
    "\n",
    "----\n",
    "\n",
    "$$\n",
    "F_{DFA}(n) = \\sqrt{\\frac{1}{N - n} \\sum_{i=1}^{N-n} f_{DFA}^{2}(n, i)}\n",
    "$$\n",
    "\n",
    "----\n",
    "$$\n",
    "  f_{xy}^{2}(n, i) = \\frac{1}{1+n} \\sum_{k=i}^{i + n}(X_{k}-\\widetilde{X}_{k, i})(Y_{k}-\\widetilde{Y}_{k, i})\n",
    "$$\n",
    "\n"
   ]
  },
  {
   "attachments": {},
   "cell_type": "markdown",
   "metadata": {},
   "source": [
    "\\begin{equation}\n",
    "  F_{xy}^{2}(n) = \\frac{1}{N-n} \\sum_{i=1}^{N-n} f_{xy}^{2}(n, i)\n",
    "\\end{equation}\n",
    "\n",
    "----\n",
    "\n",
    "\\begin{equation}\n",
    "{\\rho}_{DCCA}(n) = \\frac{F_{xy}^{2}(n)}{F_{x}(n) F_{y}(n)}\n",
    "\\end{equation}\n",
    "\n",
    "----\n",
    "\n",
    "\n",
    "\\begin{equation}\n",
    "  {DMC}_{x}^{2}  \\equiv \\rho_{y,x_{i}}(n)^{T} \\rho^{-1}(n) \\rho_{y,x_{i}}(n)\n",
    "\\end{equation}"
   ]
  },
  {
   "attachments": {},
   "cell_type": "markdown",
   "metadata": {},
   "source": [
    "\\begin{equation}\n",
    "  \\rho^{-1}(n) = \\left(\\begin{matrix} \n",
    "    1 & \\rho_{x_{1},x_{2}}(n)                       &  \\rho_{x_{1},x_{3}}(n) & \\dots  &  \\rho_{x_{1},x_{i}}(n) \\\\\n",
    "    \\rho_{x_{2},x_{1}}(n) & 1                       &  \\rho_{x_{2},x_{3}}(n) & \\dots  &  \\rho_{x_{2},x_{i}}(n) \\\\\n",
    "    \\vdots                &  \\vdots                 &  \\vdots                & \\dots  & \\vdots \\\\\n",
    "    \\rho_{x_{i},x_{1}}(n) & \\rho_{x_{i},x_{2}}(n)   &  \\rho_{x_{i},x_{3}}(n) & \\dots  &  1 \\\\\n",
    "    \\end{matrix}\\right)^{-1}\n",
    "\\end{equation}"
   ]
  },
  {
   "attachments": {},
   "cell_type": "markdown",
   "metadata": {},
   "source": [
    "### Copia do artigo\n",
    "\n",
    "\\begin{equation}\n",
    "  X_{k} = \\sum_{i=1}^{k}\\left[x_{i} - \\langle x \\rangle \\right]   \n",
    "\\end{equation}\n",
    "\n",
    "and\n",
    "\\begin{equation}\n",
    "Y_{k}= \\sum_{i=1}^{k}\\left[y_{i} - \\langle y \\rangle \\right]\n",
    "\\end{equation}\n",
    "\n",
    "\\begin{equation}\n",
    "  f_{xy}^{2}(n, i) = \\frac{1}{1+n} \\sum_{k=i}^{i + n}(X_{k}-\\widetilde{X}_{k, i})(Y_{k}-\\widetilde{Y}_{k, i})\n",
    "\\end{equation}\n",
    "\n",
    "\n",
    "\\begin{equation}\n",
    "  F_{xy}^{2}(n) = \\frac{1}{N-n} \\sum_{i=1}^{N-n} f_{xy}^{2}(n, i)\n",
    "\\end{equation}\n",
    "\n",
    "\\begin{equation}\n",
    "{\\rho}_{DCCA}(n) = \\frac{F_{xy}^{2}(n)}{F_{x}(n) F_{y}(n)}\n",
    "\\end{equation}\n",
    "\n",
    "\\begin{equation}\n",
    "  {DMC}_{x}^{2}  \\equiv \\rho_{y,x_{i}}(n)^{T} \\rho^{-1}(n) \\rho_{y,x_{i}}(n)\n",
    "\\end{equation}\n",
    "\n",
    "\n",
    "\n",
    "\\begin{equation}\n",
    "  \\rho^{-1}(n) = \\left(\\begin{matrix} \n",
    "    1 & \\rho_{x_{1},x_{2}}(n)                       &  \\rho_{x_{1},x_{3}}(n) & \\dots  &  \\rho_{x_{1},x_{i}}(n) \\\\\n",
    "    \\rho_{x_{2},x_{1}}(n) & 1                       &  \\rho_{x_{2},x_{3}}(n) & \\dots  &  \\rho_{x_{2},x_{i}}(n) \\\\\n",
    "    \\vdots                &  \\vdots                 &  \\vdots                & \\dots  & \\vdots \\\\\n",
    "    \\rho_{x_{i},x_{1}}(n) & \\rho_{x_{i},x_{2}}(n)   &  \\rho_{x_{i},x_{3}}(n) & \\dots  &  1 \\\\\n",
    "    \\end{matrix}\\right)^{-1}\n",
    "\\end{equation}\n"
   ]
  },
  {
   "attachments": {},
   "cell_type": "markdown",
   "metadata": {},
   "source": [
    "$$\n",
    "f_{DCCA}^{2}(n, i) = \\frac{1}{1+n} \\sum_{k=i}^{i + n}(X_{1k}-\\widetilde{X}_{1k, i})(X_{2k}-\\widetilde{X}_{2k, i})\n",
    "$$"
   ]
  }
 ],
 "metadata": {
  "language_info": {
   "name": "python"
  },
  "orig_nbformat": 4
 },
 "nbformat": 4,
 "nbformat_minor": 2
}
