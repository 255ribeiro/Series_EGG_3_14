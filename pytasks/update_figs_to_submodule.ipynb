{
 "cells": [
  {
   "cell_type": "code",
   "execution_count": 5,
   "metadata": {},
   "outputs": [],
   "source": [
    "from tempfile import mkstemp\n",
    "from pathlib import Path\n",
    "import shutil"
   ]
  },
  {
   "attachments": {},
   "cell_type": "markdown",
   "metadata": {},
   "source": [
    "## Update figs"
   ]
  },
  {
   "cell_type": "code",
   "execution_count": 10,
   "metadata": {},
   "outputs": [
    {
     "name": "stdout",
     "output_type": "stream",
     "text": [
      "updaed: ..\\latex_eng\\output\\figs\\diff\\S014.jpg\n",
      "updaed: ..\\latex_eng\\output\\figs\\diff\\S036.jpg\n",
      "updaed: ..\\latex_eng\\output\\figs\\diff\\S039.jpg\n",
      "updaed: ..\\latex_eng\\output\\figs\\diff\\S078.jpg\n",
      "updaed: ..\\latex_eng\\output\\figs\\diff\\S099.jpg\n",
      "updaed: ..\\latex_eng\\output\\figs\\experiments\\S014_Left Right_Imaginary.jpg\n",
      "updaed: ..\\latex_eng\\output\\figs\\global\\mean.jpg\n",
      "updaed: ..\\latex_eng\\output\\figs\\global\\median.jpg\n",
      "updaed: ..\\latex_eng\\output\\figs\\global\\std pop.jpg\n",
      "updaed: ..\\latex_eng\\output\\figs\\ir_diff\\S014.jpg\n",
      "updaed: ..\\latex_eng\\output\\figs\\ir_diff\\S036.jpg\n",
      "updaed: ..\\latex_eng\\output\\figs\\ir_diff\\S039.jpg\n",
      "updaed: ..\\latex_eng\\output\\figs\\ir_diff\\S078.jpg\n",
      "updaed: ..\\latex_eng\\output\\figs\\ir_diff\\S099.jpg\n",
      "updaed: ..\\latex_eng\\output\\figs\\mse\\mse32.jpg\n",
      "updaed: ..\\latex_eng\\output\\figs\\mse\\mse37.jpg\n",
      "updaed: ..\\latex_eng\\output\\figs\\mse\\mse49.jpg\n",
      "updaed: ..\\latex_eng\\output\\figs\\mse\\mse54.jpg\n",
      "updaed: ..\\latex_eng\\output\\figs\\stats\\S014.jpg\n",
      "updaed: ..\\latex_eng\\output\\figs\\stats\\S036.jpg\n",
      "updaed: ..\\latex_eng\\output\\figs\\stats\\S039.jpg\n",
      "updaed: ..\\latex_eng\\output\\figs\\stats\\S078.jpg\n",
      "updaed: ..\\latex_eng\\output\\figs\\stats\\S099.jpg\n"
     ]
    }
   ],
   "source": [
    "origin_path = Path(\"../output/figs/\")\n",
    "submodule_path  = Path(\"../latex_eng/\")\n",
    "\n",
    "files = origin_path.glob('*/*')\n",
    "for i in files:\n",
    "    j = str(i)\n",
    "    j = j.split(\"\\\\\")[1:]\n",
    "    j = submodule_path  / \"\\\\\".join(j)\n",
    "    if j.exists():\n",
    "        j.parent.mkdir(parents=True, exist_ok=True)\n",
    "        shutil.copy2(i,j)\n",
    "        print(\"updaed: {}\".format(j))"
   ]
  },
  {
   "attachments": {},
   "cell_type": "markdown",
   "metadata": {},
   "source": [
    "## Copy figs and fix latex path"
   ]
  },
  {
   "cell_type": "code",
   "execution_count": 4,
   "metadata": {},
   "outputs": [],
   "source": [
    "tex_dir = Path('../latex_eng')\n",
    "tex_file_path = tex_dir / 'plos_latex_template.tex'\n",
    "\n",
    "# temporary files\n",
    "fh, abs_path = mkstemp()\n",
    "with open(fh, \"w\", encoding='utf-8') as new_file:\n",
    "    with open(tex_file_path, 'r', encoding='utf-8') as f:\n",
    "        repalce_count = 0\n",
    "        for  idx, line in enumerate(f):\n",
    "            if '../output/figs' in line:\n",
    "                repalce_count += 1\n",
    "                # Origin path\n",
    "                path1 = line.split('{')\n",
    "                path1 = path1[1].split('}')[0]\n",
    "                # Destination path\n",
    "                path2 = tex_dir / '/'.join(path1.split(r'/')[1:])\n",
    "                path2.parent.mkdir( parents=True, exist_ok=True)\n",
    "                path2 = \"/\".join(str(path2).split('\\\\'))\n",
    "                # Copy images to submodule\n",
    "                print(\"Coping image from {} to {}\".format(path1, path2))\n",
    "                #shutil.copy2(path1,path2.parent)\n",
    "                print(\"replaced lines count: {}\\nLine number: {}\".format(repalce_count, idx))\n",
    "                print(\"Original line: {}\".format(line))\n",
    "                line = line.replace(\"../output/figs\", \"./output/figs\")\n",
    "                print(\"Replaced line: {}\".format(line))\n",
    "\n",
    "            new_file.write(line)\n",
    "if repalce_count > 0:\n",
    "    print(\"Replacing file\\nTotal number of edited lines: {}\".format(repalce_count))\n",
    "    #Copy the file permissions from the old file to the new file\n",
    "    shutil.copymode(tex_file_path, abs_path)\n",
    "    #Remove original file\n",
    "    tex_file_path.unlink(missing_ok=False)\n",
    "    #Move new file\n",
    "    shutil.move(abs_path, tex_file_path)"
   ]
  }
 ],
 "metadata": {
  "kernelspec": {
   "display_name": ".venv",
   "language": "python",
   "name": "python3"
  },
  "language_info": {
   "codemirror_mode": {
    "name": "ipython",
    "version": 3
   },
   "file_extension": ".py",
   "mimetype": "text/x-python",
   "name": "python",
   "nbconvert_exporter": "python",
   "pygments_lexer": "ipython3",
   "version": "3.10.6"
  },
  "orig_nbformat": 4
 },
 "nbformat": 4,
 "nbformat_minor": 2
}
